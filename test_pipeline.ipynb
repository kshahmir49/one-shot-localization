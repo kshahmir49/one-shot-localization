{
 "cells": [
  {
   "cell_type": "code",
   "execution_count": null,
   "id": "72a1b5e7",
   "metadata": {},
   "outputs": [],
   "source": [
    "import numpy as np\n",
    "import random\n",
    "import math\n",
    "import matplotlib.pyplot as plt\n",
    "import pandas as pd\n",
    "from baseline_utils import generate_grid_coordinates, generate_grid_values_from_sourceloc, generate_sourceloc_from_coordinates, add_anomaly\n",
    "from sklearn.model_selection import train_test_split\n",
    "import tensorflow as tf\n",
    "import keras\n",
    "from keras import layers\n",
    "from keras.models import Model\n",
    "#from tensorflow.keras.utils import np_utils\n",
    "from keras.models import Sequential, load_model\n",
    "from keras.layers import Dense, Dropout, Conv2D, MaxPool2D, Flatten\n",
    "from keras.datasets import mnist\n",
    "from sklearn.utils import shuffle\n",
    "from sklearn import preprocessing\n",
    "from sklearn.metrics import classification_report, confusion_matrix\n",
    "from sklearn.experimental import enable_iterative_imputer\n",
    "from sklearn.impute import IterativeImputer\n",
    "from tensorflow.keras.layers import Dense, Input, Flatten,Reshape, LeakyReLU as LR,Activation, Dropout\n",
    "from tensorflow.keras.models import Model, Sequential\n",
    "import argparse\n",
    "import os\n",
    "from autoencoder_model import autoencoder_model\n",
    "from cnn_model import cnn_model\n",
    "from mean_reconstruction import mean_reconstruction\n",
    "from plot_grid import plot_grid\n",
    "plt.rcParams[\"figure.figsize\"] = (13,7)"
   ]
  },
  {
   "cell_type": "code",
   "execution_count": null,
   "id": "88507f12",
   "metadata": {},
   "outputs": [],
   "source": [
    "test_sample = np.load('test_sample_obadah.npy')\n",
    "size = 100"
   ]
  },
  {
   "cell_type": "code",
   "execution_count": null,
   "id": "068cbe27",
   "metadata": {},
   "outputs": [],
   "source": [
    "def plot_grid(source_locations,array,size):\n",
    "    arr = np.copy(array) \n",
    "    fig, ax = plt.subplots()\n",
    "    ax.grid(which='major', color='black', linestyle='-', linewidth=1)\n",
    "    # To display the values\n",
    "    ax.set_xlim([0,size**2])\n",
    "    ax.set_ylim([0,size**2])\n",
    "    for [i,j], z in zip(source_locations,arr.ravel()):\n",
    "        ax.text(i+0.5, j+0.5, '{:0.1f}'.format(z), ha='center', va='center')\n",
    "    plt.xticks(np.arange(0, size**2, size))\n",
    "    plt.yticks(np.arange(0, size**2, size))\n",
    "    plt.show()\n",
    "    \n",
    "def generate_grid_coordinates(size):\n",
    "    grid_coordinates = np.zeros((size,size,2))\n",
    "    for i in range(size):\n",
    "        for j in range(size):\n",
    "            grid_coordinates[i][j][0] = ((i+1) * size) - size/2\n",
    "            grid_coordinates[i][j][1] = ((j+1) * size) - size/2\n",
    "    return grid_coordinates"
   ]
  },
  {
   "cell_type": "code",
   "execution_count": null,
   "id": "817e05c5",
   "metadata": {},
   "outputs": [],
   "source": [
    "grid_coordinates = generate_grid_coordinates(size) ## generate sensor locations for training (each sensor placed at center of each grid)\n",
    "sensor_locations = grid_coordinates.reshape(size**2, 2) ## sensor locations"
   ]
  },
  {
   "cell_type": "code",
   "execution_count": null,
   "id": "213f74ae",
   "metadata": {},
   "outputs": [],
   "source": [
    "plot_grid(sensor_locations, test_sample[0], size)"
   ]
  },
  {
   "cell_type": "code",
   "execution_count": null,
   "id": "4f3637a8",
   "metadata": {},
   "outputs": [],
   "source": [
    "zero_loc = np.where(test_sample[0] == 0)"
   ]
  },
  {
   "cell_type": "code",
   "execution_count": null,
   "id": "81ec04f5",
   "metadata": {},
   "outputs": [],
   "source": [
    "zero_loc[0]"
   ]
  },
  {
   "cell_type": "code",
   "execution_count": null,
   "id": "50eb33c4",
   "metadata": {},
   "outputs": [],
   "source": [
    "test_sample[0].shape"
   ]
  },
  {
   "cell_type": "code",
   "execution_count": null,
   "id": "dce41bd4",
   "metadata": {},
   "outputs": [],
   "source": [
    "np.count_nonzero(test_sample[0]==0)"
   ]
  },
  {
   "cell_type": "code",
   "execution_count": null,
   "id": "477f2204",
   "metadata": {},
   "outputs": [],
   "source": [
    "t1 = test_sample[0]"
   ]
  },
  {
   "cell_type": "code",
   "execution_count": null,
   "id": "0c7756bd",
   "metadata": {},
   "outputs": [],
   "source": [
    "t1[t1==0] = np.nan"
   ]
  },
  {
   "cell_type": "code",
   "execution_count": null,
   "id": "73511817",
   "metadata": {},
   "outputs": [],
   "source": [
    "window_size = 10\n",
    "while(np.isnan(t1).any()):\n",
    "    t1 = mean_reconstruction(t1, window_size)\n",
    "    window_size += 1"
   ]
  },
  {
   "cell_type": "code",
   "execution_count": null,
   "id": "e1d8aeeb",
   "metadata": {},
   "outputs": [],
   "source": [
    "t1"
   ]
  },
  {
   "cell_type": "code",
   "execution_count": null,
   "id": "309059f0",
   "metadata": {},
   "outputs": [],
   "source": []
  },
  {
   "cell_type": "code",
   "execution_count": null,
   "id": "c06d7b9c",
   "metadata": {},
   "outputs": [],
   "source": [
    "    print(\"Loading pretrained models\")\n",
    "    autoencoder = load_model(\"saved_models/cdae_pretrained\", custom_objects=None,compile=True)\n",
    "    cnn = load_model(\"saved_models/cnn_pretrained\")\n",
    "    print(\"Pretrained models successfully loaded\")"
   ]
  },
  {
   "cell_type": "code",
   "execution_count": null,
   "id": "ce536e1e",
   "metadata": {},
   "outputs": [],
   "source": [
    "test_autoencoder_output = autoencoder.predict(t1.reshape(1, size, size, 1))"
   ]
  },
  {
   "cell_type": "code",
   "execution_count": null,
   "id": "1e61fd8e",
   "metadata": {},
   "outputs": [],
   "source": [
    "    test_cnn_output = cnn.predict(test_autoencoder_output)\n",
    "    pred = test_cnn_output.reshape(size,size)\n",
    "    print(\"Predicted source location: \", np.where(pred == np.amax(pred)))\n",
    "    plot_grid(sensor_locations, test_cnn_output[0], size)"
   ]
  },
  {
   "cell_type": "code",
   "execution_count": null,
   "id": "575e4db0",
   "metadata": {},
   "outputs": [],
   "source": [
    "np.argmax(test_autoencoder_output.reshape(100,100))"
   ]
  },
  {
   "cell_type": "code",
   "execution_count": null,
   "id": "5d953e52",
   "metadata": {},
   "outputs": [],
   "source": [
    "test_autoencoder_output.shape"
   ]
  },
  {
   "cell_type": "code",
   "execution_count": null,
   "id": "277c34bc",
   "metadata": {},
   "outputs": [],
   "source": [
    "test_autoencoder_output.reshape(100,100)[3][83]"
   ]
  },
  {
   "cell_type": "code",
   "execution_count": null,
   "id": "f52488d1",
   "metadata": {},
   "outputs": [],
   "source": [
    "test_autoencoder_output.shape"
   ]
  },
  {
   "cell_type": "code",
   "execution_count": null,
   "id": "7d953948",
   "metadata": {},
   "outputs": [],
   "source": [
    "np.where(t1 == np.amax(t1))"
   ]
  },
  {
   "cell_type": "code",
   "execution_count": null,
   "id": "8c87445a",
   "metadata": {},
   "outputs": [],
   "source": [
    "np.where(test_sample[1] == np.amax(test_sample[1]))"
   ]
  },
  {
   "cell_type": "code",
   "execution_count": null,
   "id": "e70a3e8b",
   "metadata": {},
   "outputs": [],
   "source": [
    "print(\"Loading pretrained models\")\n",
    "autoencoder = load_model(\"saved_models/cdae_pretrained\", custom_objects=None,compile=True)\n",
    "cnn = load_model(\"saved_models/cnn_pretrained\")\n",
    "print(\"Pretrained models successfully loaded\") "
   ]
  },
  {
   "cell_type": "code",
   "execution_count": null,
   "id": "26fc3c07",
   "metadata": {},
   "outputs": [],
   "source": [
    "loc_error = 0\n",
    "for samples in np.copy(test_sample):\n",
    "    window_size = 10\n",
    "    source_loc = np.where(samples == np.amax(samples))\n",
    "    samples[samples==0] = np.nan\n",
    "    while(np.isnan(samples).any()):\n",
    "        samples = mean_reconstruction(samples, window_size)\n",
    "        window_size += 1\n",
    "    \n",
    "    \n",
    "    test_autoencoder_output = autoencoder.predict(samples.reshape(1, size, size, 1))\n",
    "    test_cnn_output = cnn.predict(test_autoencoder_output)\n",
    "    pred = test_cnn_output.reshape(size,size)\n",
    "    print(\"Predicted source location: \", np.where(pred == np.amax(pred)))\n",
    "    print(\"Actual source location: \", source_loc)\n",
    "    print(\"Localization Error: \", math.dist(source_loc, np.where(pred == np.amax(pred))))\n",
    "    loc_error += math.dist(source_loc, np.where(pred == np.amax(pred)))\n",
    "\n",
    "print(\"The average localization error is: \", loc_error/100)\n",
    "    "
   ]
  },
  {
   "cell_type": "code",
   "execution_count": null,
   "id": "3865e5ef",
   "metadata": {},
   "outputs": [],
   "source": [
    "np.where(test_sample[3] == np.amax(test_sample[3]))"
   ]
  },
  {
   "cell_type": "code",
   "execution_count": null,
   "id": "bee7c485",
   "metadata": {},
   "outputs": [],
   "source": [
    "samples"
   ]
  },
  {
   "cell_type": "code",
   "execution_count": null,
   "id": "587d2c7c",
   "metadata": {},
   "outputs": [],
   "source": [
    "    size = 100\n",
    "    source_intensity = 10000000\n",
    "    detector_area = 0.02\n",
    "    efficiency = 1\n",
    "    print(\"Initializing test aoi with 200 sensors\")\n",
    "    test_source_location = np.random.rand(1, 2) * (size**2)\n",
    "    print(\"Source Location: \", test_source_location)\n",
    "    test_sensor_locations = np.random.rand(200, 2) * (size**2)\n",
    "    print(test_sensor_locations.shape)\n",
    "    test_aoi = np.empty([size,size])\n",
    "    for loc in test_sensor_locations:\n",
    "        i = int(loc[0] / 100)\n",
    "        j = int(loc[1] / 100)\n",
    "        test_aoi[i][j] = (source_intensity * detector_area * efficiency) / (math.dist(loc, test_source_location.reshape(2))**2)\n",
    "        \n",
    "    ## Mean reconstruction\n",
    "    window_size = 10\n",
    "    while(np.isnan(test_aoi).any()):\n",
    "        test_aoi = mean_reconstruction(test_aoi, window_size)\n",
    "        window_size += 1\n",
    "        \n",
    "    print(\"Loading pretrained models\")\n",
    "    autoencoder = load_model(\"saved_models/cdae_pretrained\", custom_objects=None,compile=True)\n",
    "    cnn = load_model(\"saved_models/cnn_pretrained\")\n",
    "    print(\"Pretrained models successfully loaded\")\n",
    "    \n",
    "    ## Anomaly correction using pretrained autoencoder\n",
    "    test_autoencoder_output = autoencoder.predict(test_aoi.reshape(1, size, size, 1))\n",
    "    \n",
    "    ## Threshold setting\n",
    "    \n",
    "    \n",
    "    ## Localization using pretrained CNN\n",
    "    test_cnn_output = cnn.predict(test_autoencoder_output)\n",
    "    pred = test_cnn_output.reshape(size,size)\n",
    "    print(\"Predicted source location: \", np.where(pred == np.amax(pred)))\n",
    "    plot_grid(sensor_locations, test_cnn_output[0], size)\n",
    "    "
   ]
  }
 ],
 "metadata": {
  "kernelspec": {
   "display_name": "Python 3",
   "language": "python",
   "name": "python3"
  },
  "language_info": {
   "codemirror_mode": {
    "name": "ipython",
    "version": 3
   },
   "file_extension": ".py",
   "mimetype": "text/x-python",
   "name": "python",
   "nbconvert_exporter": "python",
   "pygments_lexer": "ipython3",
   "version": "3.8.16"
  }
 },
 "nbformat": 4,
 "nbformat_minor": 5
}
